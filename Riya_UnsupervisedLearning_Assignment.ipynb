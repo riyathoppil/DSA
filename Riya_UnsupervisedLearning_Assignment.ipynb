{
 "cells": [
  {
   "cell_type": "code",
   "execution_count": 78,
   "id": "13a3ecaa",
   "metadata": {},
   "outputs": [],
   "source": [
    "import numpy as np\n",
    "import pandas as pd\n",
    "import matplotlib.pyplot as plt\n",
    "import seaborn as sns\n",
    "from sklearn.decomposition import PCA"
   ]
  },
  {
   "cell_type": "code",
   "execution_count": 3,
   "id": "5b0d0aac",
   "metadata": {},
   "outputs": [],
   "source": [
    "data = pd.read_csv('Wine_clust.csv')"
   ]
  },
  {
   "cell_type": "code",
   "execution_count": 4,
   "id": "e9920709",
   "metadata": {},
   "outputs": [
    {
     "data": {
      "text/html": [
       "<div>\n",
       "<style scoped>\n",
       "    .dataframe tbody tr th:only-of-type {\n",
       "        vertical-align: middle;\n",
       "    }\n",
       "\n",
       "    .dataframe tbody tr th {\n",
       "        vertical-align: top;\n",
       "    }\n",
       "\n",
       "    .dataframe thead th {\n",
       "        text-align: right;\n",
       "    }\n",
       "</style>\n",
       "<table border=\"1\" class=\"dataframe\">\n",
       "  <thead>\n",
       "    <tr style=\"text-align: right;\">\n",
       "      <th></th>\n",
       "      <th>Alcohol</th>\n",
       "      <th>Malic_Acid</th>\n",
       "      <th>Ash</th>\n",
       "      <th>Ash_Alcanity</th>\n",
       "      <th>Magnesium</th>\n",
       "      <th>Total_Phenols</th>\n",
       "      <th>Flavanoids</th>\n",
       "      <th>Nonflavanoid_Phenols</th>\n",
       "      <th>Proanthocyanins</th>\n",
       "      <th>Color_Intensity</th>\n",
       "      <th>Hue</th>\n",
       "      <th>OD280</th>\n",
       "      <th>Proline</th>\n",
       "    </tr>\n",
       "  </thead>\n",
       "  <tbody>\n",
       "    <tr>\n",
       "      <th>0</th>\n",
       "      <td>14.23</td>\n",
       "      <td>1.71</td>\n",
       "      <td>2.43</td>\n",
       "      <td>15.6</td>\n",
       "      <td>127</td>\n",
       "      <td>2.80</td>\n",
       "      <td>3.06</td>\n",
       "      <td>0.28</td>\n",
       "      <td>2.29</td>\n",
       "      <td>5.64</td>\n",
       "      <td>1.04</td>\n",
       "      <td>3.92</td>\n",
       "      <td>1065</td>\n",
       "    </tr>\n",
       "    <tr>\n",
       "      <th>1</th>\n",
       "      <td>13.20</td>\n",
       "      <td>1.78</td>\n",
       "      <td>2.14</td>\n",
       "      <td>11.2</td>\n",
       "      <td>100</td>\n",
       "      <td>2.65</td>\n",
       "      <td>2.76</td>\n",
       "      <td>0.26</td>\n",
       "      <td>1.28</td>\n",
       "      <td>4.38</td>\n",
       "      <td>1.05</td>\n",
       "      <td>3.40</td>\n",
       "      <td>1050</td>\n",
       "    </tr>\n",
       "    <tr>\n",
       "      <th>2</th>\n",
       "      <td>13.16</td>\n",
       "      <td>2.36</td>\n",
       "      <td>2.67</td>\n",
       "      <td>18.6</td>\n",
       "      <td>101</td>\n",
       "      <td>2.80</td>\n",
       "      <td>3.24</td>\n",
       "      <td>0.30</td>\n",
       "      <td>2.81</td>\n",
       "      <td>5.68</td>\n",
       "      <td>1.03</td>\n",
       "      <td>3.17</td>\n",
       "      <td>1185</td>\n",
       "    </tr>\n",
       "    <tr>\n",
       "      <th>3</th>\n",
       "      <td>14.37</td>\n",
       "      <td>1.95</td>\n",
       "      <td>2.50</td>\n",
       "      <td>16.8</td>\n",
       "      <td>113</td>\n",
       "      <td>3.85</td>\n",
       "      <td>3.49</td>\n",
       "      <td>0.24</td>\n",
       "      <td>2.18</td>\n",
       "      <td>7.80</td>\n",
       "      <td>0.86</td>\n",
       "      <td>3.45</td>\n",
       "      <td>1480</td>\n",
       "    </tr>\n",
       "    <tr>\n",
       "      <th>4</th>\n",
       "      <td>13.24</td>\n",
       "      <td>2.59</td>\n",
       "      <td>2.87</td>\n",
       "      <td>21.0</td>\n",
       "      <td>118</td>\n",
       "      <td>2.80</td>\n",
       "      <td>2.69</td>\n",
       "      <td>0.39</td>\n",
       "      <td>1.82</td>\n",
       "      <td>4.32</td>\n",
       "      <td>1.04</td>\n",
       "      <td>2.93</td>\n",
       "      <td>735</td>\n",
       "    </tr>\n",
       "  </tbody>\n",
       "</table>\n",
       "</div>"
      ],
      "text/plain": [
       "   Alcohol  Malic_Acid   Ash  Ash_Alcanity  Magnesium  Total_Phenols  \\\n",
       "0    14.23        1.71  2.43          15.6        127           2.80   \n",
       "1    13.20        1.78  2.14          11.2        100           2.65   \n",
       "2    13.16        2.36  2.67          18.6        101           2.80   \n",
       "3    14.37        1.95  2.50          16.8        113           3.85   \n",
       "4    13.24        2.59  2.87          21.0        118           2.80   \n",
       "\n",
       "   Flavanoids  Nonflavanoid_Phenols  Proanthocyanins  Color_Intensity   Hue  \\\n",
       "0        3.06                  0.28             2.29             5.64  1.04   \n",
       "1        2.76                  0.26             1.28             4.38  1.05   \n",
       "2        3.24                  0.30             2.81             5.68  1.03   \n",
       "3        3.49                  0.24             2.18             7.80  0.86   \n",
       "4        2.69                  0.39             1.82             4.32  1.04   \n",
       "\n",
       "   OD280  Proline  \n",
       "0   3.92     1065  \n",
       "1   3.40     1050  \n",
       "2   3.17     1185  \n",
       "3   3.45     1480  \n",
       "4   2.93      735  "
      ]
     },
     "execution_count": 4,
     "metadata": {},
     "output_type": "execute_result"
    }
   ],
   "source": [
    "data.head()"
   ]
  },
  {
   "cell_type": "code",
   "execution_count": 5,
   "id": "6cb17538",
   "metadata": {},
   "outputs": [
    {
     "data": {
      "text/plain": [
       "Alcohol                 0\n",
       "Malic_Acid              0\n",
       "Ash                     0\n",
       "Ash_Alcanity            0\n",
       "Magnesium               0\n",
       "Total_Phenols           0\n",
       "Flavanoids              0\n",
       "Nonflavanoid_Phenols    0\n",
       "Proanthocyanins         0\n",
       "Color_Intensity         0\n",
       "Hue                     0\n",
       "OD280                   0\n",
       "Proline                 0\n",
       "dtype: int64"
      ]
     },
     "execution_count": 5,
     "metadata": {},
     "output_type": "execute_result"
    }
   ],
   "source": [
    "data.isna().sum()"
   ]
  },
  {
   "cell_type": "code",
   "execution_count": 57,
   "id": "13c78a71",
   "metadata": {},
   "outputs": [
    {
     "data": {
      "text/plain": [
       "array([[14.23,  0.28],\n",
       "       [13.2 ,  0.26],\n",
       "       [13.16,  0.3 ],\n",
       "       [14.37,  0.24],\n",
       "       [13.24,  0.39],\n",
       "       [14.2 ,  0.34],\n",
       "       [14.39,  0.3 ],\n",
       "       [14.06,  0.31],\n",
       "       [14.83,  0.29],\n",
       "       [13.86,  0.22],\n",
       "       [14.1 ,  0.22],\n",
       "       [14.12,  0.26],\n",
       "       [13.75,  0.29],\n",
       "       [14.75,  0.43],\n",
       "       [14.38,  0.29],\n",
       "       [13.63,  0.3 ],\n",
       "       [14.3 ,  0.33],\n",
       "       [13.83,  0.4 ],\n",
       "       [14.19,  0.32],\n",
       "       [13.64,  0.17],\n",
       "       [14.06,  0.24],\n",
       "       [12.93,  0.25],\n",
       "       [13.71,  0.27],\n",
       "       [12.85,  0.26],\n",
       "       [13.5 ,  0.28],\n",
       "       [13.05,  0.47],\n",
       "       [13.39,  0.34],\n",
       "       [13.3 ,  0.27],\n",
       "       [13.87,  0.37],\n",
       "       [14.02,  0.26],\n",
       "       [13.73,  0.29],\n",
       "       [13.58,  0.22],\n",
       "       [13.68,  0.42],\n",
       "       [13.76,  0.5 ],\n",
       "       [13.51,  0.29],\n",
       "       [13.48,  0.26],\n",
       "       [13.28,  0.34],\n",
       "       [13.05,  0.29],\n",
       "       [13.07,  0.28],\n",
       "       [14.22,  0.2 ],\n",
       "       [13.56,  0.34],\n",
       "       [13.41,  0.27],\n",
       "       [13.88,  0.17],\n",
       "       [13.24,  0.32],\n",
       "       [13.05,  0.28],\n",
       "       [14.21,  0.3 ],\n",
       "       [14.38,  0.27],\n",
       "       [13.9 ,  0.21],\n",
       "       [14.1 ,  0.32],\n",
       "       [13.94,  0.32],\n",
       "       [13.05,  0.17],\n",
       "       [13.83,  0.22],\n",
       "       [13.82,  0.32],\n",
       "       [13.77,  0.39],\n",
       "       [13.74,  0.21],\n",
       "       [13.56,  0.2 ],\n",
       "       [14.22,  0.26],\n",
       "       [13.29,  0.31],\n",
       "       [13.72,  0.19],\n",
       "       [12.37,  0.28],\n",
       "       [12.33,  0.63],\n",
       "       [12.64,  0.53],\n",
       "       [13.67,  0.32],\n",
       "       [12.37,  0.19],\n",
       "       [12.17,  0.45],\n",
       "       [12.37,  0.37],\n",
       "       [13.11,  0.26],\n",
       "       [12.37,  0.27],\n",
       "       [13.34,  0.55],\n",
       "       [12.21,  0.14],\n",
       "       [12.29,  0.37],\n",
       "       [13.86,  0.21],\n",
       "       [13.49,  0.27],\n",
       "       [12.99,  0.21],\n",
       "       [11.96,  0.13],\n",
       "       [11.66,  0.34],\n",
       "       [13.03,  0.24],\n",
       "       [11.84,  0.43],\n",
       "       [12.33,  0.35],\n",
       "       [12.7 ,  0.43],\n",
       "       [12.  ,  0.3 ],\n",
       "       [12.72,  0.26],\n",
       "       [12.08,  0.4 ],\n",
       "       [13.05,  0.61],\n",
       "       [11.84,  0.22],\n",
       "       [12.67,  0.3 ],\n",
       "       [12.16,  0.43],\n",
       "       [11.65,  0.4 ],\n",
       "       [11.64,  0.48],\n",
       "       [12.08,  0.42],\n",
       "       [12.08,  0.52],\n",
       "       [12.  ,  0.5 ],\n",
       "       [12.69,  0.58],\n",
       "       [12.29,  0.25],\n",
       "       [11.62,  0.17],\n",
       "       [12.47,  0.32],\n",
       "       [11.81,  0.14],\n",
       "       [12.29,  0.29],\n",
       "       [12.37,  0.24],\n",
       "       [12.29,  0.45],\n",
       "       [12.08,  0.26],\n",
       "       [12.6 ,  0.29],\n",
       "       [12.34,  0.34],\n",
       "       [11.82,  0.37],\n",
       "       [12.51,  0.32],\n",
       "       [12.42,  0.66],\n",
       "       [12.25,  0.37],\n",
       "       [12.72,  0.48],\n",
       "       [12.22,  0.39],\n",
       "       [11.61,  0.29],\n",
       "       [11.46,  0.24],\n",
       "       [12.52,  0.26],\n",
       "       [11.76,  0.6 ],\n",
       "       [11.41,  0.42],\n",
       "       [12.08,  0.43],\n",
       "       [11.03,  0.52],\n",
       "       [11.82,  0.3 ],\n",
       "       [12.42,  0.34],\n",
       "       [12.77,  0.43],\n",
       "       [12.  ,  0.37],\n",
       "       [11.45,  0.32],\n",
       "       [11.56,  0.47],\n",
       "       [12.42,  0.43],\n",
       "       [13.05,  0.3 ],\n",
       "       [11.87,  0.21],\n",
       "       [12.07,  0.37],\n",
       "       [12.43,  0.39],\n",
       "       [11.79,  0.58],\n",
       "       [12.37,  0.4 ],\n",
       "       [12.04,  0.42],\n",
       "       [12.86,  0.21],\n",
       "       [12.88,  0.24],\n",
       "       [12.81,  0.27],\n",
       "       [12.7 ,  0.17],\n",
       "       [12.51,  0.6 ],\n",
       "       [12.6 ,  0.63],\n",
       "       [12.25,  0.53],\n",
       "       [12.53,  0.63],\n",
       "       [13.49,  0.58],\n",
       "       [12.84,  0.53],\n",
       "       [12.93,  0.53],\n",
       "       [13.36,  0.37],\n",
       "       [13.52,  0.5 ],\n",
       "       [13.62,  0.47],\n",
       "       [12.25,  0.29],\n",
       "       [13.16,  0.43],\n",
       "       [13.88,  0.4 ],\n",
       "       [12.87,  0.47],\n",
       "       [13.32,  0.45],\n",
       "       [13.08,  0.34],\n",
       "       [13.5 ,  0.22],\n",
       "       [12.79,  0.24],\n",
       "       [13.11,  0.26],\n",
       "       [13.23,  0.61],\n",
       "       [12.58,  0.53],\n",
       "       [13.17,  0.61],\n",
       "       [13.84,  0.48],\n",
       "       [12.45,  0.63],\n",
       "       [14.34,  0.53],\n",
       "       [13.48,  0.52],\n",
       "       [12.36,  0.5 ],\n",
       "       [13.69,  0.5 ],\n",
       "       [12.85,  0.6 ],\n",
       "       [12.96,  0.4 ],\n",
       "       [13.78,  0.41],\n",
       "       [13.73,  0.52],\n",
       "       [13.45,  0.43],\n",
       "       [12.82,  0.4 ],\n",
       "       [13.58,  0.39],\n",
       "       [13.4 ,  0.27],\n",
       "       [12.2 ,  0.4 ],\n",
       "       [12.77,  0.48],\n",
       "       [14.16,  0.44],\n",
       "       [13.71,  0.52],\n",
       "       [13.4 ,  0.43],\n",
       "       [13.27,  0.43],\n",
       "       [13.17,  0.53],\n",
       "       [14.13,  0.56]])"
      ]
     },
     "execution_count": 57,
     "metadata": {},
     "output_type": "execute_result"
    }
   ],
   "source": [
    "data1 = data.iloc[:,[0,7]].values\n",
    "data1"
   ]
  },
  {
   "cell_type": "code",
   "execution_count": 41,
   "id": "b3eab3e0",
   "metadata": {},
   "outputs": [
    {
     "data": {
      "text/plain": [
       "(178, 2)"
      ]
     },
     "execution_count": 41,
     "metadata": {},
     "output_type": "execute_result"
    }
   ],
   "source": [
    "data1.shape"
   ]
  },
  {
   "cell_type": "code",
   "execution_count": 25,
   "id": "a680e886",
   "metadata": {},
   "outputs": [
    {
     "data": {
      "text/plain": [
       "126"
      ]
     },
     "execution_count": 25,
     "metadata": {},
     "output_type": "execute_result"
    }
   ],
   "source": [
    "data['Alcohol'].nunique()"
   ]
  },
  {
   "cell_type": "code",
   "execution_count": 58,
   "id": "6d131f88",
   "metadata": {},
   "outputs": [
    {
     "data": {
      "text/plain": [
       "numpy.ndarray"
      ]
     },
     "execution_count": 58,
     "metadata": {},
     "output_type": "execute_result"
    }
   ],
   "source": [
    "data1 = data.values\n",
    "type(data1)"
   ]
  },
  {
   "cell_type": "markdown",
   "id": "7baadddf",
   "metadata": {},
   "source": [
    "# Kmean clusterin"
   ]
  },
  {
   "cell_type": "code",
   "execution_count": 27,
   "id": "2a2a7e71",
   "metadata": {},
   "outputs": [],
   "source": [
    "from sklearn.cluster import KMeans"
   ]
  },
  {
   "cell_type": "code",
   "execution_count": 59,
   "id": "5dabf2cc",
   "metadata": {},
   "outputs": [
    {
     "name": "stderr",
     "output_type": "stream",
     "text": [
      "C:\\Users\\tompa\\anaconda3\\lib\\site-packages\\sklearn\\cluster\\_kmeans.py:1036: UserWarning: KMeans is known to have a memory leak on Windows with MKL, when there are less chunks than available threads. You can avoid it by setting the environment variable OMP_NUM_THREADS=1.\n",
      "  warnings.warn(\n"
     ]
    }
   ],
   "source": [
    "wcss = []\n",
    "for i in range(1,10):\n",
    "    kmeans = KMeans(n_clusters = i ,init = 'k-means++', random_state = 42)\n",
    "    kmeans.fit(data1)\n",
    "    wcss.append(kmeans.inertia_)"
   ]
  },
  {
   "cell_type": "code",
   "execution_count": 60,
   "id": "00015ebc",
   "metadata": {},
   "outputs": [
    {
     "data": {
      "image/png": "[encoded data removed]",
      "text/plain": [
       "<Figure size 640x480 with 1 Axes>"
      ]
     },
     "metadata": {},
     "output_type": "display_data"
    }
   ],
   "source": [
    "plt.plot(range(1,10),wcss)\n",
    "plt.title('elbow method')\n",
    "plt.xlabel('no of clusters')\n",
    "plt.ylabel('wcss score')\n",
    "plt.show()"
   ]
  },
  {
   "cell_type": "code",
   "execution_count": 17,
   "id": "46220a56",
   "metadata": {},
   "outputs": [],
   "source": [
    "#from above number of clusters is 4\n",
    "#kmeans"
   ]
  },
  {
   "cell_type": "code",
   "execution_count": 69,
   "id": "a6a38ef3",
   "metadata": {},
   "outputs": [],
   "source": [
    "kmeans = KMeans(n_clusters = 3,init = 'k-means++', random_state = 40)\n",
    "y_kmeans = kmeans.fit_predict(data1)"
   ]
  },
  {
   "cell_type": "code",
   "execution_count": 71,
   "id": "6a9b79f5",
   "metadata": {},
   "outputs": [
    {
     "data": {
      "text/plain": [
       "array([1, 1, 1, 1, 2, 1, 1, 1, 1, 1, 1, 1, 1, 1, 1, 1, 1, 1, 1, 2, 2, 2,\n",
       "       1, 1, 2, 2, 1, 1, 2, 1, 1, 1, 1, 1, 1, 2, 2, 1, 1, 2, 2, 1, 1, 2,\n",
       "       2, 1, 1, 1, 1, 1, 1, 1, 1, 1, 1, 1, 1, 1, 1, 0, 2, 0, 2, 0, 0, 2,\n",
       "       0, 0, 2, 2, 2, 0, 0, 1, 2, 0, 0, 0, 2, 0, 0, 2, 2, 0, 0, 0, 0, 0,\n",
       "       2, 2, 0, 0, 0, 0, 0, 2, 2, 0, 2, 0, 2, 0, 0, 0, 2, 0, 0, 0, 0, 2,\n",
       "       0, 0, 2, 0, 0, 0, 0, 0, 0, 0, 2, 0, 0, 0, 0, 0, 0, 0, 0, 0, 2, 0,\n",
       "       0, 2, 2, 2, 2, 0, 0, 0, 2, 2, 0, 0, 2, 2, 0, 2, 2, 0, 0, 0, 0, 2,\n",
       "       2, 2, 0, 2, 2, 2, 0, 2, 0, 2, 2, 0, 2, 2, 2, 2, 0, 0, 2, 2, 2, 2,\n",
       "       2, 0])"
      ]
     },
     "execution_count": 71,
     "metadata": {},
     "output_type": "execute_result"
    }
   ],
   "source": [
    "y_kmeans"
   ]
  },
  {
   "cell_type": "code",
   "execution_count": 72,
   "id": "209e6193",
   "metadata": {},
   "outputs": [
    {
     "name": "stdout",
     "output_type": "stream",
     "text": [
      "[1 1 1 1 2 1 1 1 1 1 1 1 1 1 1 1 1 1 1 2 2 2 1 1 2 2 1 1 2 1 1 1 1 1 1 2 2\n",
      " 1 1 2 2 1 1 2 2 1 1 1 1 1 1 1 1 1 1 1 1 1 1 0 2 0 2 0 0 2 0 0 2 2 2 0 0 1\n",
      " 2 0 0 0 2 0 0 2 2 0 0 0 0 0 2 2 0 0 0 0 0 2 2 0 2 0 2 0 0 0 2 0 0 0 0 2 0\n",
      " 0 2 0 0 0 0 0 0 0 2 0 0 0 0 0 0 0 0 0 2 0 0 2 2 2 2 0 0 0 2 2 0 0 2 2 0 2\n",
      " 2 0 0 0 0 2 2 2 0 2 2 2 0 2 0 2 2 0 2 2 2 2 0 0 2 2 2 2 2 0]\n"
     ]
    }
   ],
   "source": [
    "print(y_kmeans)"
   ]
  },
  {
   "cell_type": "code",
   "execution_count": 88,
   "id": "63bfe847",
   "metadata": {},
   "outputs": [
    {
     "name": "stdout",
     "output_type": "stream",
     "text": [
      "0.571138193786884\n"
     ]
    }
   ],
   "source": [
    "from sklearn.metrics import silhouette_score\n",
    "silhouette_sc=silhouette_score(data1,y_kmeans)\n",
    "print(silhouette_sc)"
   ]
  },
  {
   "cell_type": "code",
   "execution_count": null,
   "id": "cd230d83",
   "metadata": {},
   "outputs": [],
   "source": []
  },
  {
   "cell_type": "code",
   "execution_count": null,
   "id": "406bc288",
   "metadata": {},
   "outputs": [],
   "source": []
  },
  {
   "cell_type": "code",
   "execution_count": null,
   "id": "cab43d87",
   "metadata": {},
   "outputs": [],
   "source": []
  },
  {
   "cell_type": "code",
   "execution_count": null,
   "id": "2b40d883",
   "metadata": {},
   "outputs": [],
   "source": []
  },
  {
   "cell_type": "code",
   "execution_count": null,
   "id": "1d2e711c",
   "metadata": {},
   "outputs": [],
   "source": []
  },
  {
   "cell_type": "code",
   "execution_count": null,
   "id": "86a0cc46",
   "metadata": {},
   "outputs": [],
   "source": []
  }
 ],
 "metadata": {
  "kernelspec": {
   "display_name": "Python 3 (ipykernel)",
   "language": "python",
   "name": "python3"
  },
  "language_info": {
   "codemirror_mode": {
    "name": "ipython",
    "version": 3
   },
   "file_extension": ".py",
   "mimetype": "text/x-python",
   "name": "python",
   "nbconvert_exporter": "python",
   "pygments_lexer": "ipython3",
   "version": "3.9.13"
  }
 },
 "nbformat": 4,
 "nbformat_minor": 5
}
